{
  "nbformat": 4,
  "nbformat_minor": 0,
  "metadata": {
    "colab": {
      "provenance": []
    },
    "kernelspec": {
      "name": "python3",
      "display_name": "Python 3"
    },
    "language_info": {
      "name": "python"
    }
  },
  "cells": [
    {
      "cell_type": "markdown",
      "source": [
        "## **Calculate Your Age**"
      ],
      "metadata": {
        "id": "zqKxAAF0ek-X"
      }
    },
    {
      "cell_type": "code",
      "source": [
        "import time\n",
        "from calendar import isleap"
      ],
      "metadata": {
        "id": "3KWyODPkmS0V"
      },
      "execution_count": 2,
      "outputs": []
    },
    {
      "cell_type": "code",
      "source": [
        "#judge the leap year\n",
        "def judge_leap_year(year):\n",
        "  if isleap(year):\n",
        "    return True\n",
        "  else:\n",
        "    return False"
      ],
      "metadata": {
        "id": "3O-KXkp0royU"
      },
      "execution_count": 3,
      "outputs": []
    },
    {
      "cell_type": "code",
      "source": [
        "#return the number of days in each month"
      ],
      "metadata": {
        "id": "kyOpq66ye2Gi"
      },
      "execution_count": 4,
      "outputs": []
    },
    {
      "cell_type": "code",
      "source": [
        "def month_days(month, leap_year):\n",
        "  if month in [1,3,5,7,8,10,12]:\n",
        "    return 31\n",
        "  elif month in [4,6,8,11]:\n",
        "    return 30\n",
        "  elif month == 2 and leap_year:\n",
        "    return 29\n",
        "  elif month == 2 and ( not leap_year):\n",
        "    return 28"
      ],
      "metadata": {
        "id": "_H72-3Bze6cq"
      },
      "execution_count": 5,
      "outputs": []
    },
    {
      "cell_type": "code",
      "source": [
        "name =input (\" input your name: \")\n",
        "age = input(\" input your age: \")\n",
        "Localtime = time.localtime(time.time())"
      ],
      "metadata": {
        "id": "cIYlfxG1fI1S",
        "colab": {
          "base_uri": "https://localhost:8080/"
        },
        "outputId": "13ef8d56-496f-42bb-f691-ddd54821c54d"
      },
      "execution_count": 12,
      "outputs": [
        {
          "name": "stdout",
          "output_type": "stream",
          "text": [
            " input your name: ghazal\n",
            " input your age: 33\n"
          ]
        }
      ]
    },
    {
      "cell_type": "code",
      "source": [
        "year =int(age)\n",
        "month=year * 12 +localtime.tm_mon\n",
        "day = 0"
      ],
      "metadata": {
        "id": "XtTjZIMGghGT"
      },
      "execution_count": 13,
      "outputs": []
    },
    {
      "cell_type": "code",
      "source": [
        "begin_year = int(localtime.tm_year)-year\n",
        "end_year = begin_year +year"
      ],
      "metadata": {
        "id": "oP3IkOK2g5po"
      },
      "execution_count": 14,
      "outputs": []
    },
    {
      "cell_type": "code",
      "source": [
        "# calculate the days\n",
        "for y in range(begin_year, end_year):\n",
        "    if (judge_leap_year(y)):\n",
        "        day = day + 366\n",
        "    else:\n",
        "        day = day + 365"
      ],
      "metadata": {
        "id": "pAWgLpI4tc8A"
      },
      "execution_count": 18,
      "outputs": []
    },
    {
      "cell_type": "code",
      "source": [
        "leap_year = judge_leap_year(localtime.tm_year)\n",
        "for m in range(1, localtime.tm_mon):\n",
        "    day = day + month_days(m, leap_year)"
      ],
      "metadata": {
        "id": "EsTw8la0hPEe"
      },
      "execution_count": 20,
      "outputs": []
    },
    {
      "cell_type": "code",
      "source": [
        "day = day + localtime.tm_mday\n",
        "print(\"%s's age is %d years or \" % (name, year), end=\"\")\n",
        "print(\"%d months or %d days\" % (month, day))"
      ],
      "metadata": {
        "id": "lTx7s7WihghR",
        "colab": {
          "base_uri": "https://localhost:8080/"
        },
        "outputId": "e9ead721-0bb9-41f4-e511-d6a170c1b483"
      },
      "execution_count": 21,
      "outputs": [
        {
          "output_type": "stream",
          "name": "stdout",
          "text": [
            "ghazal's age is 33 years or 398 months or 12093 days\n"
          ]
        }
      ]
    },
    {
      "cell_type": "code",
      "source": [],
      "metadata": {
        "id": "CUmYX9SiuBcn"
      },
      "execution_count": null,
      "outputs": []
    }
  ]
}
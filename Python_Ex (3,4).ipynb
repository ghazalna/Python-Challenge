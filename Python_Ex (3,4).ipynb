{
 "cells": [
  {
   "cell_type": "markdown",
   "metadata": {},
   "source": [
    "<div style=\"color: white;padding-top:18px;text-align:center;background-color:#8B008B;border-radius:15px;border: 1px solid white;\"> \n",
    "    <h3>Exercise 3 (score:350)</h3>\n",
    "</div>"
   ]
  },
  {
   "cell_type": "markdown",
   "metadata": {},
   "source": [
    "<div style=\"color: black;font-family:Georgia;padding-top:18px;text-align:left;background-color:lightskyblue;border-radius:15px;border: 2px solid cornflowerblue;\"> \n",
    "    <h4>Question 01 (String)</h4>\n",
    "    <p>Get a string from user and check length of that, if length of string was even\n",
    "show first half of string otherwise print last half of string.\n",
    "</p>\n",
    "    \n",
    "</div>"
   ]
  },
  {
   "cell_type": "code",
   "execution_count": 17,
   "metadata": {},
   "outputs": [
    {
     "name": "stdout",
     "output_type": "stream",
     "text": [
      "length os string:  6\n",
      "The first half of the string is: gha\n"
     ]
    }
   ],
   "source": [
    "#string input from the user\n",
    "string = input(\"write a string\")\n",
    "\n",
    "# length of the string\n",
    "print(\"length os string: \",len(string))\n",
    "\n",
    "if len(string) % 2 ==0 :\n",
    "    print(\"The first half of the string is:\", string[:len(string) // 2])\n",
    "else:     #odd\n",
    "    print(\"The last half of the string is:\", string[len(string) // 2:])"
   ]
  },
  {
   "cell_type": "markdown",
   "metadata": {},
   "source": [
    "<div style=\"color: black;font-family:Georgia;padding-top:18px;text-align:left;background-color:lightskyblue;border-radius:15px;border: 1px solid cornflowerblue;\"> \n",
    "    <h4>Question 02 (String)</h4>\n",
    "<p>\n",
    "based on the below text answer to questions.\n",
    "</p>\n",
    "\n",
    "<ul>\n",
    "    <li>\n",
    "        Divide the text into two halves. If length of string is odd, include the middle character in the first half.\n",
    "    </li>\n",
    "    <br>\n",
    "    <li>\n",
    "        In the first half of the text, replace all occurrences of the word \"Python\" with \"Java\".\n",
    "    </li>\n",
    "    <br>\n",
    "    <li>\n",
    "       In the second half of the text, replace all occurrences of the word \"Python\" with \"C++\" \n",
    "    </li>\n",
    "    <br>\n",
    "    <li>\n",
    "        Combine both halves back into a single text and print the modified text\n",
    "    </li>\n",
    "    <br>\n",
    "    <li>\n",
    "        How many times was the word \"Python\" replaced in the first half?\n",
    "    </li>\n",
    "    <br>\n",
    "    <li>\n",
    "        How many times was the word \"Python\" replaced in the second half?\n",
    "    </li>\n",
    "</ul>\n",
    "\n",
    "<br>\n",
    "<p>Here is the text:</p>\n",
    "\n",
    "<p>\n",
    "    Python is a widely-used programming language known for its simplicity. Python supports various\n",
    "    programming paradigms. Python's code readability makes it a favorite among developers. Python is\n",
    "    ideal for rapidly prototyping applications.\n",
    "</p>\n",
    "\n",
    "</div>"
   ]
  },
  {
   "cell_type": "code",
   "execution_count": 15,
   "metadata": {},
   "outputs": [
    {
     "name": "stdout",
     "output_type": "stream",
     "text": [
      "length os Text:  235\n",
      "First Half:\n",
      " Python is a widely-used programming language known for its simplicity. Python supports various programming paradigms. \n",
      "\n",
      "Second Half:\n",
      " Python's code readability makes it a favorite among developers. Python is ideal for rapidly prototyping applications.\n"
     ]
    }
   ],
   "source": [
    "#Divide the text into two halves. If length of string is odd, include the middle character in the first half.\n",
    "text = \"Python is a widely-used programming language known for its simplicity. Python supports various programming paradigms. Python's code readability makes it a favorite among developers. Python is ideal for rapidly prototyping applications.\"\n",
    "\n",
    "print(\"length os Text: \",len(text))\n",
    "Div = (len(text) +1)//2\n",
    "\n",
    "first_half = text[:Div]\n",
    "second_half = text[Div:]\n",
    "\n",
    "# Output the results\n",
    "print(\"First Half:\\n\", first_half)\n",
    "print(\"\\nSecond Half:\\n\", second_half)"
   ]
  },
  {
   "cell_type": "code",
   "execution_count": 16,
   "metadata": {},
   "outputs": [
    {
     "name": "stdout",
     "output_type": "stream",
     "text": [
      "Java is a widely-used programming language known for its simplicity. Java supports various programming paradigms. \n",
      "C++'s code readability makes it a favorite among developers. C++ is ideal for rapidly prototyping applications.\n"
     ]
    }
   ],
   "source": [
    "#In the first half of the text, replace all occurrences of the word \"Python\" with \"Java\".\n",
    "\n",
    "first_half_modified = first_half.replace(\"Python\", \"Java\") \n",
    "print (first_half_modified)\n",
    "\n",
    "#In the second half of the text, replace all occurrences of the word \"Python\" with \"C++\"\n",
    "\n",
    "second_half_modified = second_half.replace(\"Python\", \"C++\") \n",
    "print (second_half_modified)"
   ]
  },
  {
   "cell_type": "code",
   "execution_count": 17,
   "metadata": {},
   "outputs": [
    {
     "name": "stdout",
     "output_type": "stream",
     "text": [
      "Java is a widely-used programming language known for its simplicity. Java supports various programming paradigms. C++'s code readability makes it a favorite among developers. C++ is ideal for rapidly prototyping applications.\n"
     ]
    }
   ],
   "source": [
    "#Combine both halves back into a single text and print the modified text\n",
    "\n",
    "modified_text = first_half_modified + second_half_modified\n",
    "print(modified_text)"
   ]
  },
  {
   "cell_type": "code",
   "execution_count": 18,
   "metadata": {},
   "outputs": [
    {
     "name": "stdout",
     "output_type": "stream",
     "text": [
      "Number of Python in First Half: 2\n",
      "Number of Python in Second Half: 2\n"
     ]
    }
   ],
   "source": [
    "count_first = first_half.count(\"Python\")\n",
    "count_second = second_half.count(\"Python\")\n",
    "\n",
    "print(\"Number of Python in First Half:\", count_first)\n",
    "print(\"Number of Python in Second Half:\", count_second)\n"
   ]
  },
  {
   "cell_type": "markdown",
   "metadata": {},
   "source": [
    "<div style=\"color: black;font-family:Georgia;padding-top:18px;text-align:left;background-color:lightskyblue;border-radius:15px;border: 1px solid cornflowerblue;\"> \n",
    "    <h4>Question 03 (String)</h4>\n",
    "<p>Write a program that prompts the user to enter a text. The program should then\n",
    "remove all the spaces from the entered text and display the result.</p>\n",
    "\n",
    "</div>"
   ]
  },
  {
   "cell_type": "code",
   "execution_count": 21,
   "metadata": {},
   "outputs": [
    {
     "name": "stdout",
     "output_type": "stream",
     "text": [
      "thisisaredcolor\n"
     ]
    }
   ],
   "source": [
    "text = input (\"please write a text\")\n",
    "text_modified = text.replace(\" \", \"\")\n",
    "print(text_modified)"
   ]
  },
  {
   "cell_type": "markdown",
   "metadata": {},
   "source": [
    "<div style=\"color: black;font-family:Georgia;padding-top:18px;text-align:left;background-color:lightskyblue;border-radius:15px;border: 1px solid cornflowerblue;\"> \n",
    "    <h4>Question 04 (String)</h4>\n",
    "<p>Write a program that prompts the user to enter two strings. if the second\n",
    "string is present in the first string, remove it, otherwise add the second\n",
    "string at the start and end of the first string. Display the new string in the\n",
    "output.</p>\n",
    "\n",
    "</div>"
   ]
  },
  {
   "cell_type": "code",
   "execution_count": 38,
   "metadata": {},
   "outputs": [],
   "source": [
    "text1 = input (\"please write a first text\")\n",
    "text2 = input (\"please write a second text\")\n",
    "\n",
    "if text2 in text1:\n",
    "    print(\"new_string is : \" ,text1.replace(text2, \"\"))\n",
    "    new_string = text1.replace(text2, \"\")\n",
    "    \n",
    "else:\n",
    "    new_string = text2 + \" \" + text1 + \" \" + text2\n",
    "\n",
    "print(\"The new string is:\", new_string) \n"
   ]
  },
  {
   "cell_type": "markdown",
   "metadata": {},
   "source": []
  },
  {
   "cell_type": "markdown",
   "metadata": {},
   "source": [
    "<div style=\"color: black;font-family:Georgia;padding-top:18px;text-align:left;background-color:lightskyblue;border-radius:15px;border: 1px solid cornflowerbue;\"> \n",
    "    <h4>Question 05 (String)\n",
    "</h4>\n",
    "<p>Write a program that prompts the user to enter a password. The program\n",
    "should validate the password based on the following criteria:</p>\n",
    "\n",
    "<ul>\n",
    "    <li>The length of the password must be exactly 8 characters.</li>\n",
    "    <li>The first four characters of the password must be letters (alphabets).</li>\n",
    "    <li>The last four characters of the password must be digits (numbers).</li>\n",
    "    <li>If the password meets all the above criteria, the program should display \"Valid\".\n",
    "        Otherwise, it should display \"Invalid\".\n",
    "    </li>\n",
    "    <br>\n",
    "</ul>\n",
    "\n",
    "</div>"
   ]
  },
  {
   "cell_type": "code",
   "execution_count": 43,
   "metadata": {},
   "outputs": [
    {
     "name": "stdout",
     "output_type": "stream",
     "text": [
      "Valid\n"
     ]
    }
   ],
   "source": [
    "password = input (\"please enter a valid password\")\n",
    "\n",
    "if len(password) != 8 :\n",
    "    print(\"invalid, length of the password is 8 \")\n",
    "elif not password[:4].isalpha():\n",
    "    print(\"invalid, first four characters are letters \")\n",
    "elif not password[4:].isdigit():\n",
    "    print(\"invalid, last four characters are digits \")\n",
    "else:\n",
    "    print(\"Valid\")\n",
    "    "
   ]
  },
  {
   "cell_type": "markdown",
   "metadata": {},
   "source": [
    "<div style=\"color: white;padding-top:18px;text-align:center;background-color:#8B008B;border-radius:15px;border: 1px solid white;\"> \n",
    "    <h3>Exercise 4 (score:300)</h3>\n",
    "</div>"
   ]
  },
  {
   "cell_type": "markdown",
   "metadata": {},
   "source": [
    "<div style=\"color: black;font-family:Georgia;padding-top:18px;text-align:left;background-color:lightskyblue;border-radius:15px;border: 1px solid cornflowerblue;\"> \n",
    "    <h4>Question 01 (Loop)</h4>\n",
    "<p>Create a program that prompts the user to input a string. The program should\n",
    "then analyze the string to determine the number of alphabetic characters\n",
    "(letters) and the number of numeric characters (digits) contained within it.\n",
    "</p>\n",
    "\n",
    "</div>"
   ]
  },
  {
   "cell_type": "code",
   "execution_count": 12,
   "metadata": {},
   "outputs": [
    {
     "name": "stdout",
     "output_type": "stream",
     "text": [
      " The number of Digits characters :  4\n",
      " The number of alphabetic characters :  2\n"
     ]
    }
   ],
   "source": [
    "string = input (\"please Write a string\")\n",
    "\n",
    "\n",
    "num_letters = 0\n",
    "num_digits = 0\n",
    "\n",
    "\n",
    "for digit in string:\n",
    "    if digit.isdigit():\n",
    "        num_digits += 1\n",
    "    elif digit.isalpha():\n",
    "        num_letters += 1\n",
    "\n",
    "    \n",
    "print ( \" The number of Digits characters : \" , num_digits)\n",
    "print ( \" The number of alphabetic characters : \" , num_letters)\n",
    "\n"
   ]
  },
  {
   "cell_type": "markdown",
   "metadata": {},
   "source": [
    "<div style=\"color: black;font-family:Georgia;padding-top:18px;text-align:left;background-color:lightskyblue;border-radius:15px;border: 1px solid cornflowerblue;\"> \n",
    "    <h4>Question 02 (Loop)</h4>\n",
    "<p>Get five strings from the user using a loop and display each of them that has a\n",
    "length greater than 6.\n",
    "</p>\n",
    "\n",
    "</div>"
   ]
  },
  {
   "cell_type": "code",
   "execution_count": 15,
   "metadata": {},
   "outputs": [
    {
     "name": "stdout",
     "output_type": "stream",
     "text": [
      "Strings with a length greater than 6 : rfserfg\n",
      "Strings with a length greater than 6 : brskvrnt\n"
     ]
    }
   ],
   "source": [
    "strings = []\n",
    "\n",
    "# Loop to get five strings from the user\n",
    "for i in range(5):\n",
    "    user_input = input(f\"Please enter string {i+1}: \")\n",
    "    strings.append(user_input)\n",
    "\n",
    "# Display strings with length greater than 6\n",
    "\n",
    "for string in strings:\n",
    "    if len(string) > 6:\n",
    "        print(\"Strings with a length greater than 6 :\" ,string)\n"
   ]
  },
  {
   "cell_type": "markdown",
   "metadata": {},
   "source": [
    "<div style=\"color: black;font-family:Georgia;padding-top:18px;text-align:left;background-color:lightskyblue;border-radius:15px;border: 1px solid cornflowerblue;\"> \n",
    "    <h4>Question 03 (Loop)</h4>\n",
    "<p>Write a program to analyze the scores of 10 students in a class. You need to\n",
    "collect the name and score (out of 20) for each student. Based on their\n",
    "scores, you need to assign them a level as follows: \n",
    "</p>\n",
    "\n",
    "<ul>\n",
    "    <li>A+ : If the score is between 17 and 20 (inclusive)</li>\n",
    "    <li>A : If the score is between 15 and less than 17</li>\n",
    "    <li>B : If the score is between 10 and less than 15</li>\n",
    "    <li>C : If the score is less than 10</li>\n",
    "</ul>\n",
    "\n",
    "<p>\n",
    "    Your program should display the following:\n",
    "</p>\n",
    "\n",
    "<ul>\n",
    "    <li>The name, score, and level of each student.</li>\n",
    "    <li>The name and score of the student with the highest score.</li>\n",
    "    <li>The name and score of the student with the lowest score.</li>\n",
    "    <li>The average score of the class.</li>\n",
    "    <li>\n",
    "        Make sure to validate the input to ensure that the score is a positive number and less than\n",
    "        or equal to 20.\n",
    "    </li>\n",
    "</ul>\n",
    "\n",
    "</div>"
   ]
  },
  {
   "cell_type": "code",
   "execution_count": 5,
   "metadata": {},
   "outputs": [
    {
     "name": "stdout",
     "output_type": "stream",
     "text": [
      "name:sara , score : 20 and level :A+\n",
      "name:ali , score : 6 and level :C\n",
      "name:sahar , score : 5 and level :C\n",
      "the lowest garde is : 5 by : sahar\n",
      "the highest grade is 20 by : sara\n",
      "the avrege is : 10.333333333333334\n"
     ]
    }
   ],
   "source": [
    "highest_score = 0\n",
    "highest_score_name = \"\"\n",
    "\n",
    "lowest_score = 20 \n",
    "lowest_score_name = \"\"\n",
    "\n",
    "total_score = 0\n",
    "\n",
    "n = 3\n",
    "for i in range(n):\n",
    "    name = input(\"Enter the name: \")\n",
    "    score = int(input(\"Enter the score: \"))\n",
    "\n",
    "    if score <= 20 and score>0:\n",
    "        if score>= 17 :\n",
    "            level = \"A+\"\n",
    "        elif score >= 15 :\n",
    "            level = \"A\"\n",
    "        elif score >= 10 :\n",
    "            level = \"B\"\n",
    "        else:\n",
    "            level = \"C\"\n",
    "\n",
    "        total_score += score\n",
    "\n",
    "        if score >highest_score :\n",
    "            highest_score = score\n",
    "            highest_score_name = name\n",
    "\n",
    "        if score< lowest_score :\n",
    "            lowest_score = score\n",
    "            lowest_score_name = name\n",
    "\n",
    "    else:\n",
    "        print(\"the score is invalid\")\n",
    "        n -= 1\n",
    "    print(f\"name:{name} , score : {score} and level :{level}\")\n",
    "\n",
    "    \n",
    "avg = total_score / n\n",
    "\n",
    "print(f\"the lowest garde is : {lowest_score} by : {lowest_score_name}\")\n",
    "print(f\"the highest grade is {highest_score} by : {highest_score_name}\")\n",
    "print(f\"the avrege is : {avg}\")"
   ]
  },
  {
   "cell_type": "markdown",
   "metadata": {},
   "source": [
    "<div style=\"color: black;font-family:Georgia;padding-top:18px;text-align:left;background-color:lightskyblue;border-radius:15px;border: 1px solid cornflowerblue;\"> \n",
    "    <h4>Question 04 (Loop)\n",
    "</h4>\n",
    "<p>\n",
    "Write a Python program to iterate through the numbers 1 to 10. For each\n",
    "number, if it is odd, multiply it by 5 and if it is even, add 5 to it. Display each\n",
    "operation as it is performed, and at the end, show the sum of the numbers\n",
    "obtained from the even numbers and the product of the numbers obtained from\n",
    "the odd numbers. Your output should follow the format shown below:\n",
    "\n",
    "</p>\n",
    "<ul>\n",
    "    <li>1 * 5 = 5</li>\n",
    "    <li>2 + 5 = 7</li>\n",
    "    <li>3 * 5 = 15</li>\n",
    "    <li>4 + 5 = 9</li>\n",
    "    <li>5 * 5 = 25</li>\n",
    "    <li>6 + 5 = 11</li>\n",
    "    <li>7 * 5 = 35</li>\n",
    "    <li>8 + 5 = 13</li>\n",
    "    <li>9 * 5 = 45</li>\n",
    "    <li>10 + 5 = 15</li>\n",
    "</ul>\n",
    "\n",
    "</div>"
   ]
  },
  {
   "cell_type": "code",
   "execution_count": 4,
   "metadata": {},
   "outputs": [
    {
     "name": "stdout",
     "output_type": "stream",
     "text": [
      "1 * 5 = 5\n",
      "2 + 5 = 7\n",
      "3 * 5 = 15\n",
      "4 + 5 = 9\n",
      "5 * 5 = 25\n",
      "6 + 5 = 11\n",
      "7 * 5 = 35\n",
      "8 + 5 = 13\n",
      "9 * 5 = 45\n",
      "10 + 5 = 15\n",
      "Sum of numbers obtained from even numbers: 55\n",
      "Product of numbers obtained from odd numbers: 2953125\n"
     ]
    }
   ],
   "source": [
    "# Initialize sums and products\n",
    "even_sum = 0\n",
    "odd_product = 1\n",
    "\n",
    "# Iterate through numbers 1 to 10\n",
    "for i in range(1, 11):\n",
    "    if i % 2 == 0:\n",
    "        result = i + 5\n",
    "        print(f\"{i} + 5 = {result}\")\n",
    "        even_sum += result\n",
    "    else:\n",
    "        result = i * 5\n",
    "        print(f\"{i} * 5 = {result}\")\n",
    "        odd_product *= result\n",
    "\n",
    "# Display the final results\n",
    "print(\"Sum of numbers obtained from even numbers:\", even_sum)\n",
    "print(\"Product of numbers obtained from odd numbers:\", odd_product)\n"
   ]
  },
  {
   "cell_type": "markdown",
   "metadata": {},
   "source": [
    "<h2 style=\"color: blue:; background-color: purple\">Good luck</h2>"
   ]
  }
 ],
 "metadata": {
  "kernelspec": {
   "display_name": "Python 3",
   "language": "python",
   "name": "python3"
  },
  "language_info": {
   "codemirror_mode": {
    "name": "ipython",
    "version": 3
   },
   "file_extension": ".py",
   "mimetype": "text/x-python",
   "name": "python",
   "nbconvert_exporter": "python",
   "pygments_lexer": "ipython3",
   "version": "3.12.4"
  }
 },
 "nbformat": 4,
 "nbformat_minor": 2
}

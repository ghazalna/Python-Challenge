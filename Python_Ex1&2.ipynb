{
 "cells": [
  {
   "cell_type": "markdown",
   "id": "fb7a8054",
   "metadata": {},
   "source": [
    "<div style=\"color: white;padding-top:0px;text-align:center;background-color:#257662;border-radius:15px;border: 1px solid white;\"> \n",
    "    <h3>Exercise 1 (score:350)</h3>\n",
    "</div>"
   ]
  },
  {
   "cell_type": "markdown",
   "id": "bd5458df",
   "metadata": {},
   "source": [
    "<div style=\"color: white;padding-top:0px;text-align:left;background-color:red;border-radius:15px;border: 1px solid white;\"> \n",
    "    <h4>Question 01 (Basic)(50):</h4>\n",
    "</div>"
   ]
  },
  {
   "cell_type": "code",
   "execution_count": 52,
   "id": "37ae1073-8e31-426a-ac70-111e4ffe2256",
   "metadata": {},
   "outputs": [
    {
     "name": "stdout",
     "output_type": "stream",
     "text": [
      "12 , type num1 :  <class 'int'>\n",
      "12 , type num2 :  <class 'int'>\n",
      "1 , type flagl :  <class 'int'>\n",
      "we can't convert it directly to int because it contain numerical and non numerical toghther\n",
      "123 , type num3 :  <class 'int'>\n"
     ]
    }
   ],
   "source": [
    "#conver to int\n",
    "num1 = 12.45\n",
    "num1 = int(num1)\n",
    "print (num1, \", type num1 : \",type(num1))\n",
    "\n",
    "num2 = \"12.45\"\n",
    "num2 = int(float (num2))\n",
    "print (num2, \", type num2 : \",type(num2))\n",
    "\n",
    "flagl = True\n",
    "flagl = int(flagl)\n",
    "print (flagl ,\", type flagl : \",type(flagl))\n",
    "\n",
    "code =\"al23\"\n",
    "print (\"we can't convert it directly to int because it contain numerical and non numerical toghther\") \n",
    "\n",
    "num3 = \"0123\"\n",
    "num3 = int(num3)\n",
    "print (num3, \", type num3 : \",type(num3))\n",
    "\n",
    "\n"
   ]
  },
  {
   "cell_type": "code",
   "execution_count": 53,
   "id": "83f0933e",
   "metadata": {},
   "outputs": [
    {
     "name": "stdout",
     "output_type": "stream",
     "text": [
      "10.0 , type num4 :  <class 'float'>\n",
      "4.0 , type num5 :  <class 'float'>\n",
      "4.7 , type num6 :  <class 'float'>\n"
     ]
    },
    {
     "ename": "ValueError",
     "evalue": "could not convert string to float: '5l'",
     "output_type": "error",
     "traceback": [
      "\u001b[0;31m---------------------------------------------------------------------------\u001b[0m",
      "\u001b[0;31mValueError\u001b[0m                                Traceback (most recent call last)",
      "Cell \u001b[0;32mIn[53], line 15\u001b[0m\n\u001b[1;32m     12\u001b[0m \u001b[38;5;28mprint\u001b[39m (num6, \u001b[38;5;124m\"\u001b[39m\u001b[38;5;124m, type num6 : \u001b[39m\u001b[38;5;124m\"\u001b[39m,\u001b[38;5;28mtype\u001b[39m(num6))\n\u001b[1;32m     14\u001b[0m num7 \u001b[38;5;241m=\u001b[39m \u001b[38;5;124m\"\u001b[39m\u001b[38;5;124m5l\u001b[39m\u001b[38;5;124m\"\u001b[39m\n\u001b[0;32m---> 15\u001b[0m num7 \u001b[38;5;241m=\u001b[39m \u001b[38;5;28;43mfloat\u001b[39;49m\u001b[43m(\u001b[49m\u001b[43mnum7\u001b[49m\u001b[43m)\u001b[49m\n\u001b[1;32m     16\u001b[0m \u001b[38;5;66;03m#======>  ValueError: could not convert string to float: '5l'\u001b[39;00m\n\u001b[1;32m     18\u001b[0m name \u001b[38;5;241m=\u001b[39m \u001b[38;5;124m\"\u001b[39m\u001b[38;5;124mpython\u001b[39m\u001b[38;5;124m\"\u001b[39m\n",
      "\u001b[0;31mValueError\u001b[0m: could not convert string to float: '5l'"
     ]
    }
   ],
   "source": [
    "#convert to float\n",
    "\n",
    "num4 = 10\n",
    "num4 = float(num4)\n",
    "print (num4, \", type num4 : \",type(num4))\n",
    "\n",
    "num5 = 4.\n",
    "print (num5, \", type num5 : \",type(num5))\n",
    "\n",
    "num6 = \"4.7\"\n",
    "num6 = float(num6)\n",
    "print (num6, \", type num6 : \",type(num6))\n",
    "\n",
    "num7 = \"5l\"\n",
    "num7 = float(num7)\n",
    "#======>  ValueError: could not convert string to float: '5l'\n",
    "\n",
    "name = \"python\"\n",
    "name = float(name)\n",
    "#======>  ValueError: could not convert string to float: 'python'"
   ]
  },
  {
   "cell_type": "code",
   "execution_count": 54,
   "id": "3c69ee39",
   "metadata": {},
   "outputs": [
    {
     "name": "stdout",
     "output_type": "stream",
     "text": [
      "False , type flag3 :  <class 'bool'>\n",
      "True , type flag4 :  <class 'bool'>\n",
      "False , type name1 :  <class 'bool'>\n",
      "True , type name2 :  <class 'bool'>\n",
      "False , type num8 :  <class 'bool'>\n"
     ]
    }
   ],
   "source": [
    "#convert to bool\n",
    "flag3 = False\n",
    "print (flag3, \", type flag3 : \",type(flag3))\n",
    "\n",
    "flag4 = \"False\"\n",
    "flag4 = bool(str(flag4))\n",
    "print (flag4, \", type flag4 : \",type(flag4))\n",
    "\n",
    "name1 = \"\"\n",
    "name1 = bool(name1)\n",
    "print (name1, \", type name1 : \",type(name1))\n",
    "\n",
    "name2 =\" \"\n",
    "name2 = bool(name2)\n",
    "print (name2, \", type name2 : \",type(name2))\n",
    "\n",
    "num8 = 0\n",
    "num8 = bool(num8)\n",
    "print (num8, \", type num8 : \",type(num8))"
   ]
  },
  {
   "cell_type": "code",
   "execution_count": 50,
   "id": "ad6fd483",
   "metadata": {},
   "outputs": [
    {
     "name": "stdout",
     "output_type": "stream",
     "text": [
      "False , type flag :  <class 'str'>\n",
      "False , type num :  <class 'str'>\n"
     ]
    }
   ],
   "source": [
    "#convert to str\n",
    "\n",
    "flag = False\n",
    "flag = str(flag)\n",
    "print (flag , \", type flag : \",type(flag))\n",
    "\n",
    "num = 0.000\n",
    "num = str(bool(num))\n",
    "print (num , \", type num : \",type(num))"
   ]
  },
  {
   "cell_type": "markdown",
   "id": "1d00f89c",
   "metadata": {},
   "source": [
    "<div style=\"color: white;padding-top:0px;text-align:left;background-color:red;border-radius:15px;border: 1px solid white;\"> \n",
    "    <h4>Question 02 (Basic)(50)</h4>\n",
    "</div>"
   ]
  },
  {
   "cell_type": "code",
   "execution_count": 60,
   "id": "3816d8c6-4af5-4d92-8c4b-042a7f86fb7e",
   "metadata": {},
   "outputs": [
    {
     "name": "stdout",
     "output_type": "stream",
     "text": [
      "900\n"
     ]
    }
   ],
   "source": [
    "x = \"300\"  \n",
    "y = int(x)  #=====> y=300\n",
    "z = y + 200   #=====> z=500\n",
    "a = float (z)   #====> a=500.0\n",
    "#b = a + x        #=====> float + str =====> is not correct so we should convert it to float\n",
    "b = a + float(x)   #======> 500+300\n",
    "c = int(b) + 100     #========> 800 +100 =900\n",
    "print(c)"
   ]
  },
  {
   "cell_type": "code",
   "execution_count": 62,
   "id": "37e5d935",
   "metadata": {},
   "outputs": [
    {
     "name": "stdout",
     "output_type": "stream",
     "text": [
      "83250\n",
      "41625\n"
     ]
    }
   ],
   "source": [
    "x = \"250\"  \n",
    "y = int(x)  #=====> y=250\n",
    "z = y // 3   #=====> z=83\n",
    "a = str (z)   #====> a=\"83\"\n",
    "b = a + x        #=====> str + str =====> \"83\"+\"250\"\n",
    "print(b)\n",
    "\n",
    "c = int(b) // 2    \n",
    "print(c)"
   ]
  },
  {
   "cell_type": "markdown",
   "id": "db081bf6",
   "metadata": {},
   "source": [
    "<div style=\"color: white;padding-top:0px;text-align:left;background-color:red;border-radius:15px;border: 1px solid white;\"> \n",
    "    <h4>Question 03 (Basic)(50)</h4>\n",
    "</div>"
   ]
  },
  {
   "cell_type": "code",
   "execution_count": 88,
   "id": "365f6809-06ab-43ce-8f15-eb94e950723c",
   "metadata": {},
   "outputs": [
    {
     "name": "stdout",
     "output_type": "stream",
     "text": [
      "True\n"
     ]
    }
   ],
   "source": [
    "user_input = input(\"Please enter a string: \")\n",
    "print(user_input == \"yes\" or user_input == \"no\") \n"
   ]
  },
  {
   "cell_type": "markdown",
   "id": "685a1886",
   "metadata": {},
   "source": [
    "<div style=\"color: white;padding-top:0px;text-align:left;background-color:red;border-radius:15px;border: 1px solid white;\"> \n",
    "    <h4>Question 04 (Basic)(50)</h4>\n",
    "</div>"
   ]
  },
  {
   "cell_type": "code",
   "execution_count": 89,
   "id": "105d2a6a",
   "metadata": {},
   "outputs": [
    {
     "name": "stdout",
     "output_type": "stream",
     "text": [
      "False\n"
     ]
    }
   ],
   "source": [
    "user_input = input(\"Please enter a string: \")\n",
    "print(bool(user_input))"
   ]
  },
  {
   "cell_type": "markdown",
   "id": "7498e245-7d08-4954-a7de-08f891427cc1",
   "metadata": {},
   "source": [
    "<div style=\"color: white;padding-top:0px;text-align:left;background-color:red;border-radius:15px;border: 1px solid white;\"> \n",
    "    <h4>Question 05 (Basic)(50)</h4>\n",
    "</div>"
   ]
  },
  {
   "cell_type": "code",
   "execution_count": 95,
   "id": "e70e6a6b-5c16-4135-9e76-c459febfa6eb",
   "metadata": {},
   "outputs": [
    {
     "name": "stdout",
     "output_type": "stream",
     "text": [
      "45.0 °C is equal to  113.0 °F\n"
     ]
    }
   ],
   "source": [
    "user_input = input(\"Please enter a temperature in Celsius: \")\n",
    "user_input = float(int(user_input))\n",
    "Fahrenheit = (user_input * 9/5) + 32\n",
    "print(user_input, \"°C is equal to \",Fahrenheit, \"°F\")"
   ]
  },
  {
   "cell_type": "markdown",
   "id": "631be292-3395-46eb-9244-2a5f44997d82",
   "metadata": {},
   "source": [
    "<div style=\"color: white;padding-top:0px;text-align:left;background-color:red;border-radius:15px;border: 1px solid white;\"> \n",
    "    <h4>Question 06 (Basic)(50)</h4>\n",
    "</div>"
   ]
  },
  {
   "cell_type": "code",
   "execution_count": 98,
   "id": "64767ede-9a93-4da2-ad6a-011d81fe414d",
   "metadata": {},
   "outputs": [],
   "source": [
    "num1, num2, num3 = 17 , 1.8 , 28 #=======> correct\n",
    "#num4, num5 = 45 , 12 , 19         #========> is not correct because the number of the valuables in left side is not equal to number of values in right side\n",
    "num4, num5 , numX = 45 , 12 , 19 \n",
    "#num6, num7, num8 = 200, 300           #========> is not correct because the number of the valuables in left side is not equal to number of values in right side\n",
    "num6, num7, num8 = 200, 300 , 400 \n",
    "name, score, passed = \"sara\", 19, True \n",
    "var1 = var2 = var3 = 500\n"
   ]
  },
  {
   "cell_type": "code",
   "execution_count": 105,
   "id": "22b8372f",
   "metadata": {},
   "outputs": [
    {
     "name": "stdout",
     "output_type": "stream",
     "text": [
      " num1:  17 , num2:  1.8 , num3:  28\n"
     ]
    }
   ],
   "source": [
    "num1, num2, num3 = 17 , 1.8 , 28 #=======> correct\n",
    "print (\" num1: \",num1 ,\", num2: \", num2,\", num3: \" ,num3 )"
   ]
  },
  {
   "cell_type": "code",
   "execution_count": 106,
   "id": "80debdcd",
   "metadata": {},
   "outputs": [
    {
     "name": "stdout",
     "output_type": "stream",
     "text": [
      " num4:  45 , num5:  12 , numX:  19\n"
     ]
    }
   ],
   "source": [
    "#num4, num5 = 45 , 12 , 19         #========> is not correct because the number of the valuables in left side is not equal to number of values in right side\n",
    "num4, num5 , numX = 45 , 12 , 19 \n",
    "print (\" num4: \",num4 ,\", num5: \", num5,\", numX: \" ,numX )"
   ]
  },
  {
   "cell_type": "code",
   "execution_count": 107,
   "id": "212a439f",
   "metadata": {},
   "outputs": [
    {
     "name": "stdout",
     "output_type": "stream",
     "text": [
      " num6:  200 , num7:  300 , num8:  400\n"
     ]
    }
   ],
   "source": [
    "#num6, num7, num8 = 200, 300           #========> is not correct because the number of the valuables in left side is not equal to number of values in right side\n",
    "num6, num7, num8 = 200, 300 , 400 \n",
    "print (\" num6: \",num6 ,\", num7: \", num7,\", num8: \" ,num8 )"
   ]
  },
  {
   "cell_type": "code",
   "execution_count": 108,
   "id": "c5fa949c",
   "metadata": {},
   "outputs": [
    {
     "name": "stdout",
     "output_type": "stream",
     "text": [
      " name:  sara , score:  19 , passed:  True\n"
     ]
    }
   ],
   "source": [
    "name, score, passed = \"sara\", 19, True \n",
    "print (\" name: \",name ,\", score: \", score,\", passed: \" ,passed )"
   ]
  },
  {
   "cell_type": "code",
   "execution_count": 109,
   "id": "4ac34ce4",
   "metadata": {},
   "outputs": [
    {
     "name": "stdout",
     "output_type": "stream",
     "text": [
      " var1:  500 , var2:  500 , var3  500\n"
     ]
    }
   ],
   "source": [
    "var1 = var2 = var3 = 500\n",
    "print (\" var1: \",var1 ,\", var2: \", var2,\", var3 \" ,var3 )"
   ]
  },
  {
   "cell_type": "code",
   "execution_count": 100,
   "id": "7fd2d944",
   "metadata": {},
   "outputs": [
    {
     "name": "stdout",
     "output_type": "stream",
     "text": [
      "30 20\n"
     ]
    }
   ],
   "source": [
    "num1 = 20\n",
    "num2 = 30\n",
    "num1, num2 = num2, num1          #========> num1=num2(30)= 30 , num2=num1(20)= 20\n",
    "print (num1, num2)"
   ]
  },
  {
   "cell_type": "markdown",
   "id": "cb8bde05",
   "metadata": {},
   "source": [
    "<div style=\"color: white;padding-top:18px;text-align:left;background-color:red;border-radius:15px;border: 1px solid white;\"> \n",
    "    <h4>Question 05 (String)(80)</h4>\n",
    "<p> Write a program that prompts the user to enter a password. The program\n",
    "should validate the password based on the following criteria</p>\n",
    "\n",
    "</div>"
   ]
  },
  {
   "cell_type": "raw",
   "id": "fc5d6ee9",
   "metadata": {},
   "source": [
    "The length of the password must be exactly 8 characters.\n",
    "The first four characters of the password must be letters (alphabets).\n",
    "The last four characters of the password must be digits (numbers).\n",
    "If the password meets all the above criteria, the program should display \"Valid\".\n",
    "Otherwise, it should display \"Invalid\"."
   ]
  },
  {
   "cell_type": "code",
   "execution_count": 110,
   "id": "a04b6d1f",
   "metadata": {},
   "outputs": [
    {
     "name": "stdout",
     "output_type": "stream",
     "text": [
      "len : 6 \n",
      "part1: kgi \n",
      "part2: ggn\n",
      "Invalid\n"
     ]
    }
   ],
   "source": [
    "# write code here: \n",
    "\n",
    "password = input(\"Enter Your Password: \")\n",
    "\n",
    "len_pass = len(password)\n",
    "\n",
    "middle = len_pass//2\n",
    "\n",
    "part1 = password[:middle]\n",
    "\n",
    "part2 = password[middle:]\n",
    "\n",
    "print(\"len :\",len_pass,\"\\npart1:\",part1,\"\\npart2:\",part2)\n",
    "\n",
    "if len_pass == 8 and part1.isalpha() and part2.isdigit():\n",
    "    \n",
    "    print(\"Valid\")\n",
    "    \n",
    "else:\n",
    "    \n",
    "    print(\"Invalid\")"
   ]
  },
  {
   "cell_type": "markdown",
   "id": "f4491296",
   "metadata": {},
   "source": [
    "<div style=\"color: white;padding-top:0px;text-align:center;background-color:#257662;border-radius:15px;border: 1px solid white;\"> \n",
    "    <h3>Exercise 2 (score:200)</h3>\n",
    "</div>"
   ]
  },
  {
   "cell_type": "markdown",
   "id": "360428f2",
   "metadata": {},
   "source": [
    "<div style=\"color: white;padding-top:0px;text-align:left;background-color:red;border-radius:15px;border: 1px solid white;\"> \n",
    "    <h4>Question 01 (Condition)(50)</h4>\n",
    "</div>"
   ]
  },
  {
   "cell_type": "code",
   "execution_count": 115,
   "id": "b5e76b02-d935-45b4-aa63-c23ec3282906",
   "metadata": {},
   "outputs": [
    {
     "name": "stdout",
     "output_type": "stream",
     "text": [
      "Consonant\n"
     ]
    }
   ],
   "source": [
    "user_input = input(\"Please enter a Letter: \")\n",
    "\n",
    "if user_input in (\"a\", \"e\", \"i\", \"o\", \"u\") :\n",
    "    print ( \"Vowel\")\n",
    "else:\n",
    "    print(\"Consonant\")"
   ]
  },
  {
   "cell_type": "markdown",
   "id": "3a869f83",
   "metadata": {},
   "source": [
    "<div style=\"color: white;padding-top:0px;text-align:left;background-color:red;border-radius:15px;border: 1px solid white;\"> \n",
    "    <h4>Question 02 (Condition)(50)</h4>\n",
    "</div>"
   ]
  },
  {
   "cell_type": "code",
   "execution_count": 124,
   "id": "b5fdaf97-807f-495b-8e42-3bac23a8b14a",
   "metadata": {},
   "outputs": [
    {
     "name": "stdout",
     "output_type": "stream",
     "text": [
      "Range\n"
     ]
    }
   ],
   "source": [
    "user_input = input(\"Please enter a Number: \")\n",
    "user_input = float(user_input)\n",
    "if user_input>10 and user_input<20 :\n",
    "    print(\"Range\")\n",
    "else:\n",
    "    print(\"Out of Range\")"
   ]
  },
  {
   "cell_type": "markdown",
   "id": "e3adf415",
   "metadata": {},
   "source": [
    "<div style=\"color: white;padding-top:0px;text-align:left;background-color:red;border-radius:15px;border: 1px solid white;\"> \n",
    "    <h4>Question 03 (Condition)(50)</h4>\n",
    "</div>"
   ]
  },
  {
   "cell_type": "code",
   "execution_count": 126,
   "id": "d5329c84-1107-41d7-ad15-681a0442828c",
   "metadata": {},
   "outputs": [
    {
     "name": "stdout",
     "output_type": "stream",
     "text": [
      "Greater\n"
     ]
    }
   ],
   "source": [
    "num1 = input(\"Please enter a Number1: \")\n",
    "num2 = input(\"Please enter a Number2: \")\n",
    "num1 = float(num1)\n",
    "num2 = float(num2)\n",
    "\n",
    "if num1+num2 > 20:\n",
    "    print(\"Greater\")\n",
    "else:\n",
    "    print(\" Not Greater\")\n",
    "\n"
   ]
  },
  {
   "cell_type": "markdown",
   "id": "3eb93eb1",
   "metadata": {},
   "source": [
    "<div style=\"color: white;padding-top:0px;text-align:left;background-color:red;border-radius:15px;border: 1px solid white;\"> \n",
    "    <h4>Question 04 (Condition)(50)</h4>\n",
    "</div>"
   ]
  },
  {
   "cell_type": "code",
   "execution_count": 131,
   "id": "99937553-2a26-4787-b365-d46f41243c5e",
   "metadata": {},
   "outputs": [
    {
     "name": "stdout",
     "output_type": "stream",
     "text": [
      "No colors match\n"
     ]
    }
   ],
   "source": [
    "color1 = input(\"Please enter a color1: \")\n",
    "color2 = input(\"Please enter a color2: \")\n",
    "color3 = input(\"Please enter a color3: \")\n",
    "\n",
    "if color1==color2==color3 :\n",
    "    print(\"All colors match\")\n",
    "elif color1==color2:\n",
    "    print(\"Two colors match\")\n",
    "elif color2==color3:\n",
    "    print(\"Two colors match\")\n",
    "elif color1==color3:\n",
    "    print(\"Two colors match\")\n",
    "else :\n",
    "    print (\"No colors match\")\n"
   ]
  },
  {
   "cell_type": "markdown",
   "id": "293056e3",
   "metadata": {},
   "source": [
    "<h2 style=\"color: blue:; background-color: purple\">Good luck</h2>"
   ]
  }
 ],
 "metadata": {
  "kernelspec": {
   "display_name": "Python 3 (ipykernel)",
   "language": "python",
   "name": "python3"
  },
  "language_info": {
   "codemirror_mode": {
    "name": "ipython",
    "version": 3
   },
   "file_extension": ".py",
   "mimetype": "text/x-python",
   "name": "python",
   "nbconvert_exporter": "python",
   "pygments_lexer": "ipython3",
   "version": "3.12.4"
  }
 },
 "nbformat": 4,
 "nbformat_minor": 5
}

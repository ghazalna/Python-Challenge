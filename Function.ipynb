{
 "cells": [
  {
   "cell_type": "markdown",
   "id": "fb7a8054",
   "metadata": {},
   "source": [
    "<div style=\"color: white;padding-top:18px;text-align:center;background-color:#8B008B;border-radius:15px;border: 1px solid white;\"> \n",
    "    <h3>Exercise 7 (score:550)</h3>\n",
    "</div>"
   ]
  },
  {
   "cell_type": "markdown",
   "id": "bd5458df",
   "metadata": {},
   "source": [
    "<div style=\"color: black;font-family:Georgia;padding-top:18px;text-align:left;background-color:lightskyblue;border-radius:15px;border: 2px solid cornflowerblue;\">\n",
    "    <h4>Question 01 (Function)(100):</h4>\n",
    "    <p>\n",
    "        define two lists that one of them is strings and another is float, change values of both of them to int and create a list that is sum of them. use map function and lambda. \n",
    "    </p>\n",
    "</div>"
   ]
  },
  {
   "cell_type": "code",
   "execution_count": 7,
   "id": "99937553-2a26-4787-b365-d46f41243c5e",
   "metadata": {},
   "outputs": [
    {
     "name": "stdout",
     "output_type": "stream",
     "text": [
      "[29, 111, 66]\n"
     ]
    }
   ],
   "source": [
    "list1 = [\" 12 \", \" 25 \", \" 30 \"]\n",
    "list2 = [ 17.34 , 86.78 , 36.35 ]\n",
    "list3 = list(map(int, list1))\n",
    "list4 = list(map(int, list2))\n",
    "list5 = list(map(lambda x , y : x+y , list3, list4))\n",
    "print(list5)"
   ]
  },
  {
   "cell_type": "markdown",
   "id": "014bb5de",
   "metadata": {},
   "source": [
    "<div style=\"color: black;font-family:Georgia;padding-top:18px;text-align:left;background-color:lightskyblue;border-radius:15px;border: 2px solid cornflowerblue;\">\n",
    "    <h4>Question 02 (Function)(100):</h4>\n",
    "    <p>\n",
    "        Write a Python program where users input two numbers and choose an operation ( +, -, *, /,**).Use lambda functions for calculations. If division is chosen and the second number is zero, replace it with one, notify the user, and proceed. The program should handle invalid operations gracefully.  \n",
    "    </p>\n",
    "</div>"
   ]
  },
  {
   "cell_type": "code",
   "execution_count": 28,
   "id": "064621d4",
   "metadata": {},
   "outputs": [
    {
     "name": "stdout",
     "output_type": "stream",
     "text": [
      "22.0\n"
     ]
    }
   ],
   "source": [
    "number1 = float(input(\"Enter number 1: \"))\n",
    "number2 = float(input(\"Enter number 2: \"))\n",
    "function_ = input(\"Choose Function (+, -, *, /, **): \")\n",
    "\n",
    "\n",
    "sum_ = lambda x, y: x + y\n",
    "minus_ = lambda x, y: x - y\n",
    "multiply = lambda x, y: x * y\n",
    "divide = lambda x, y: x / y if y != 0 else \"Division by zero is undefined\"\n",
    "power = lambda x, y: x ** y\n",
    "\n",
    "\n",
    "if function_ == \"+\":\n",
    "    res = sum_(number1, number2)\n",
    "elif function_ == \"-\":\n",
    "    res = minus_(number1, number2)\n",
    "elif function_ == \"*\":\n",
    "    res = multiply(number1, number2)\n",
    "elif function_ == \"/\":\n",
    "    if number2 == 0:\n",
    "        number2 = 1\n",
    "        print(\"We converted your second number to 1 because you entered zero!\")\n",
    "    res = divide(number1, number2)\n",
    "elif function_ == \"**\":\n",
    "    res = power(number1, number2)\n",
    "else:\n",
    "    res = \"Invalid function\"\n",
    "\n",
    "print(res)\n"
   ]
  },
  {
   "cell_type": "markdown",
   "id": "5c81e750",
   "metadata": {},
   "source": [
    "<div style=\"color: black;font-family:Georgia;padding-top:18px;text-align:left;background-color:lightskyblue;border-radius:15px;border: 2px solid cornflowerblue;\">\n",
    "    <h4>Question 03 (Function)(100):</h4>\n",
    "    <p>\n",
    "        You have a list of numbers, and you need to perform the following tasks using the filter function: </p> \n",
    "        <p>•\tWrite a function that filters out all the negative numbers from the list.</p>\n",
    "        <p>•\tWrite a function that filters out all the numbers that are less than the average of the list.</p>\n",
    "       <p> •\tWrite a function that filters out all the even numbers from the list.</p>\n",
    "    </p>\n",
    "</div>"
   ]
  },
  {
   "cell_type": "code",
   "execution_count": 1,
   "id": "50e67dcd",
   "metadata": {},
   "outputs": [
    {
     "name": "stdout",
     "output_type": "stream",
     "text": [
      "Positive numbers: [12, 13, 25, 35, 78]\n",
      "Numbers greater than or equal to the average: [25, 35, 78]\n",
      "Odd numbers: [13, 25, 35, -1]\n"
     ]
    }
   ],
   "source": [
    "numbers = [12 , -12 , 13 , 25, 35, 78, -1]\n",
    "\n",
    "# 1. Filter out all the negative numbers from the list\n",
    "positive_numbers = list(filter(lambda x: x >= 0, numbers))\n",
    "print(\"Positive numbers:\", positive_numbers)\n",
    "\n",
    "# 2. Filter out all the numbers that are less than the average of the list\n",
    "average = sum(numbers) / len(numbers)\n",
    "above_average_numbers = list(filter(lambda x: x >= average, numbers))\n",
    "print(\"Numbers greater than or equal to the average:\", above_average_numbers)\n",
    "\n",
    "# 3. Filter out all the even numbers from the list\n",
    "odd_numbers = list(filter(lambda x: x % 2 != 0, numbers))\n",
    "print(\"Odd numbers:\", odd_numbers)\n"
   ]
  },
  {
   "cell_type": "markdown",
   "id": "34326ff6",
   "metadata": {},
   "source": [
    "<div style=\"color: black;font-family:Georgia;padding-top:18px;text-align:left;background-color:lightskyblue;border-radius:15px;border: 2px solid cornflowerblue;\">\n",
    "    <h4>Question 04 (Function)(100):</h4>\n",
    "    <p>\n",
    "        Write a function that takes a list of email addresses and returns a new list containing only the valid email addresses. For simplicity, consider an email valid if it contains exactly one \"@11 symbol and at least one \".11 after the 11@\" symbol. Use the filter function to accomplish this. \n",
    "    </p>\n",
    "</div>"
   ]
  },
  {
   "cell_type": "code",
   "execution_count": 3,
   "id": "3384ea23",
   "metadata": {},
   "outputs": [
    {
     "name": "stdout",
     "output_type": "stream",
     "text": [
      "Valid emails: ['ghhdshb@gmail.com', 'hrzrs@yahoo.com']\n"
     ]
    }
   ],
   "source": [
    "def get_emails():\n",
    "    email_list = []\n",
    "    for i in range(4):  # Ask for emails 4 times\n",
    "        email = input(f\"Enter email {i + 1}: \")\n",
    "        email_list.append(email)\n",
    "    return email_list\n",
    "\n",
    "def filter_valid_emails(email_list):\n",
    "    valid_emails = []\n",
    "    \n",
    "    for email in email_list:\n",
    "        if email.count('@') == 1:  \n",
    "            local, domain = email.split('@')\n",
    "            if '.' in domain:  \n",
    "                valid_emails.append(email)\n",
    "    \n",
    "    return valid_emails\n",
    "\n",
    "# Collect emails from the user\n",
    "emails = get_emails()\n",
    "\n",
    "# Check for valid emails\n",
    "valid_emails = filter_valid_emails(emails)\n",
    "print(\"Valid emails:\", valid_emails)\n"
   ]
  },
  {
   "cell_type": "markdown",
   "id": "f31d7edb",
   "metadata": {},
   "source": [
    "<div style=\"color: black;font-family:Georgia;padding-top:18px;text-align:left;background-color:lightskyblue;border-radius:15px;border: 2px solid cornflowerblue;\">\n",
    "    <h4>Question 05 (Function)(100):</h4>\n",
    "    <p>\n",
    "        Write a function that takes a list of integers and checks if any of the numbers are greater than 100 but less than 200. The function should return True if at least one number in the list falls \n",
    "        within this range, otherwise False. \n",
    "    </p>\n",
    "</div>"
   ]
  },
  {
   "cell_type": "code",
   "execution_count": 7,
   "id": "6fb8490b",
   "metadata": {},
   "outputs": [
    {
     "name": "stdout",
     "output_type": "stream",
     "text": [
      "Is there a number between 100 and 200?: True\n"
     ]
    }
   ],
   "source": [
    "numbers_list = [550, 35, 150, 705, 130]\n",
    "\n",
    "def check (numbers_list):\n",
    "    for num in numbers_list:\n",
    "        if 100 < num < 200:\n",
    "            return True\n",
    "    return False\n",
    "\n",
    "result = check(numbers_list)\n",
    "print(\"Is there a number between 100 and 200?:\", result)\n"
   ]
  },
  {
   "cell_type": "markdown",
   "id": "5a2189dd",
   "metadata": {},
   "source": [
    "<div style=\"color: black;font-family:Georgia;padding-top:18px;text-align:left;background-color:lightskyblue;border-radius:15px;border: 2px solid cornflowerblue;\">\n",
    "    <h4>Question 06 (Function)(50):</h4>\n",
    "    <p>\n",
    "        Define a function that takes a sentence as input and returns the number of words in the sentence. \n",
    "    </p>\n",
    "</div>"
   ]
  },
  {
   "cell_type": "code",
   "execution_count": 4,
   "id": "e7a1fa52",
   "metadata": {},
   "outputs": [
    {
     "name": "stdout",
     "output_type": "stream",
     "text": [
      "Number of words: 3\n"
     ]
    }
   ],
   "source": [
    "sentence = input(\"This is an example sentence.\")\n",
    "\n",
    "def count_words(sentence):\n",
    "    words = sentence.split()  \n",
    "    return len(words)\n",
    "\n",
    "word_count = count_words(sentence)\n",
    "print(\"Number of words:\", word_count)\n"
   ]
  },
  {
   "cell_type": "markdown",
   "id": "293056e3",
   "metadata": {},
   "source": [
    "<h2 style=\"color: blue:; background-color: purple\">Good luck</h2>"
   ]
  }
 ],
 "metadata": {
  "kernelspec": {
   "display_name": "Python 3 (ipykernel)",
   "language": "python",
   "name": "python3"
  },
  "language_info": {
   "codemirror_mode": {
    "name": "ipython",
    "version": 3
   },
   "file_extension": ".py",
   "mimetype": "text/x-python",
   "name": "python",
   "nbconvert_exporter": "python",
   "pygments_lexer": "ipython3",
   "version": "3.12.4"
  }
 },
 "nbformat": 4,
 "nbformat_minor": 5
}
